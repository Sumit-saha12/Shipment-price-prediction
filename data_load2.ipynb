{
 "cells": [
  {
   "cell_type": "markdown",
   "metadata": {},
   "source": [
    "IMPORT LIBRARIES"
   ]
  },
  {
   "cell_type": "code",
   "execution_count": 59,
   "metadata": {},
   "outputs": [],
   "source": [
    "import pandas as pd\n",
    "from pandas.plotting import scatter_matrix\n",
    "import matplotlib.pyplot as plt\n",
    "import seaborn as sns\n",
    "import numpy as np\n",
    "from sklearn import linear_model \n",
    "from sklearn.metrics import mean_squared_error,r2_score\n",
    "from sklearn.model_selection import train_test_split,cross_val_score\n",
    "from sklearn.pipeline import Pipeline\n",
    "from sklearn.preprocessing import StandardScaler\n",
    "from sklearn.impute import SimpleImputer\n",
    "from sklearn.linear_model import LinearRegression,Lasso\n",
    "from sklearn.tree import DecisionTreeRegressor\n",
    "from sklearn.ensemble import RandomForestRegressor,AdaBoostRegressor,GradientBoostingRegressor\n",
    "import xgboost as xgb\n",
    "from sklearn.svm import SVR,SVC\n"
   ]
  },
  {
   "cell_type": "markdown",
   "metadata": {},
   "source": [
    "# LOAD AND SHOW DATA"
   ]
  },
  {
   "cell_type": "code",
   "execution_count": null,
   "metadata": {},
   "outputs": [],
   "source": [
    "data = pd.read_csv(\"https://raw.githubusercontent.com/Sumit-saha12/Shipment-price-prediction/main/SCMS_Delivery_History_Dataset.csv\")\n",
    "data.head()"
   ]
  },
  {
   "cell_type": "markdown",
   "metadata": {},
   "source": [
    "## OVERVIEW DATA"
   ]
  },
  {
   "cell_type": "code",
   "execution_count": null,
   "metadata": {},
   "outputs": [],
   "source": [
    "print('Total number of rows: ',data.shape[0])\n",
    "print('Total number of column :',data.shape[1])\n",
    "data.dtypes"
   ]
  },
  {
   "cell_type": "markdown",
   "metadata": {},
   "source": [
    "## DROP COLUMNS"
   ]
  },
  {
   "cell_type": "code",
   "execution_count": null,
   "metadata": {},
   "outputs": [],
   "source": [
    "data=data.drop(['Vendor','Item Description','Molecule/Test Type'],axis=1)\n",
    "data.head()"
   ]
  },
  {
   "cell_type": "markdown",
   "metadata": {},
   "source": [
    "## DATA CLEAN"
   ]
  },
  {
   "cell_type": "code",
   "execution_count": null,
   "metadata": {},
   "outputs": [],
   "source": [
    "data=data[data['First Line Designation']!='No']\n",
    "data=data[data['Weight (Kilograms)']!='Weight Captured Separately']\n",
    "data=data[data['Freight Cost (USD)']!='Freight Included in Commodity Cost']\n",
    "data=data[data['Freight Cost (USD)']!='Invoiced Separately']\n",
    "data=data[data['Freight Cost (USD)']!='Freight Included in Commodity Cost']\n",
    "data.head()\n"
   ]
  },
  {
   "cell_type": "markdown",
   "metadata": {},
   "source": [
    "Convert import datas object to numerics"
   ]
  },
  {
   "cell_type": "code",
   "execution_count": 103,
   "metadata": {},
   "outputs": [
    {
     "data": {
      "text/plain": [
       "ID                                int64\n",
       "Project Code                     object\n",
       "PQ #                             object\n",
       "PO / SO #                        object\n",
       "ASN/DN #                         object\n",
       "Country                          object\n",
       "Managed By                       object\n",
       "Fulfill Via                      object\n",
       "Vendor INCO Term                 object\n",
       "Shipment Mode                    object\n",
       "PQ First Sent to Client Date     object\n",
       "PO Sent to Vendor Date           object\n",
       "Scheduled Delivery Date          object\n",
       "Delivered to Client Date         object\n",
       "Delivery Recorded Date           object\n",
       "Product Group                    object\n",
       "Sub Classification               object\n",
       "Brand                            object\n",
       "Dosage                           object\n",
       "Dosage Form                      object\n",
       "Unit of Measure (Per Pack)        int64\n",
       "Line Item Quantity                int64\n",
       "Line Item Value                 float64\n",
       "Pack Price                      float64\n",
       "Unit Price                      float64\n",
       "Manufacturing Site               object\n",
       "First Line Designation           object\n",
       "Weight (Kilograms)                int64\n",
       "Freight Cost (USD)              float64\n",
       "Line Item Insurance (USD)       float64\n",
       "dtype: object"
      ]
     },
     "execution_count": 103,
     "metadata": {},
     "output_type": "execute_result"
    }
   ],
   "source": [
    "data['Weight (Kilograms)'] = pd.to_numeric(data['Weight (Kilograms)'])\n",
    "data['Freight Cost (USD)'] = pd.to_numeric(data['Freight Cost (USD)'])\n",
    "\n",
    "data.dtypes"
   ]
  },
  {
   "cell_type": "code",
   "execution_count": null,
   "metadata": {},
   "outputs": [],
   "source": [
    "data.describe()"
   ]
  },
  {
   "cell_type": "markdown",
   "metadata": {},
   "source": [
    "## ANALYSIS OF DATA"
   ]
  },
  {
   "cell_type": "markdown",
   "metadata": {},
   "source": [
    "Creating data for analysis"
   ]
  },
  {
   "cell_type": "code",
   "execution_count": null,
   "metadata": {},
   "outputs": [],
   "source": [
    "order=data['PO / SO #'].nunique()\n",
    "total_order=data['PO / SO #'].count()\n",
    "duplicate_orders=total_order-order\n",
    "total_unique_projects=data['Project Code'].nunique()\n",
    "total_Freight_Cost=data['Freight Cost (USD)'].sum()\n",
    "total_weight=data['Weight (Kilograms)'].sum()\n",
    "avg_freight_cost_uniqueorder=total_Freight_Cost/order\n",
    "avg_weight_uniqueorder=total_weight/order\n",
    "unique_country=data['Country'].nunique()\n",
    "unique_shipment_mode=data['Shipment Mode'].nunique()\n",
    "country_summary=data.groupby(['Shipment Mode','Country','Freight Cost (USD)','Weight (Kilograms)']).sum().reset_index()\n",
    "country_summary=country_summary[['Shipment Mode','Country','Freight Cost (USD)','Weight (Kilograms)']]\n",
    "country_summary=data.groupby(['Shipment Mode','Country']).agg({'PO / SO #':'count','Freight Cost (USD)':'sum','Weight (Kilograms)':'sum'}).reset_index()\n",
    "country_summary['freight_cost_by_order']=country_summary['Freight Cost (USD)']/country_summary['PO / SO #']\n",
    "top_ten_country_by_freight_cost=data.groupby(['Country'])['Freight Cost (USD)'].sum().nlargest(10).reset_index()\n",
    "mf_summary=data.groupby(['Manufacturing Site']).agg({'PO / SO #':'count','Freight Cost (USD)':'sum'}).reset_index()\n"
   ]
  },
  {
   "cell_type": "markdown",
   "metadata": {},
   "source": [
    "Summary of some data"
   ]
  },
  {
   "cell_type": "code",
   "execution_count": null,
   "metadata": {},
   "outputs": [],
   "source": [
    "country_summary.head()"
   ]
  },
  {
   "cell_type": "code",
   "execution_count": null,
   "metadata": {},
   "outputs": [],
   "source": [
    "top_ten_country_by_freight_cost.head()"
   ]
  },
  {
   "cell_type": "code",
   "execution_count": null,
   "metadata": {},
   "outputs": [],
   "source": [
    "mf_summary.head()"
   ]
  },
  {
   "cell_type": "markdown",
   "metadata": {},
   "source": [
    "## DATA VISUALIZATION"
   ]
  },
  {
   "cell_type": "markdown",
   "metadata": {},
   "source": [
    "DATA HISTOGRAM GRAPH"
   ]
  },
  {
   "cell_type": "code",
   "execution_count": null,
   "metadata": {},
   "outputs": [],
   "source": [
    "data.hist(figsize=(20,15))"
   ]
  },
  {
   "cell_type": "markdown",
   "metadata": {},
   "source": [
    "Co-relation attributes each other"
   ]
  },
  {
   "cell_type": "code",
   "execution_count": null,
   "metadata": {},
   "outputs": [],
   "source": [
    "attributes = ['Unit Price','Pack Price','Line Item Quantity','Unit of Measure (Per Pack)','Freight Cost (USD)','Weight (Kilograms)']\n",
    "scatter_matrix(data[attributes],figsize=(20,15))"
   ]
  },
  {
   "cell_type": "code",
   "execution_count": null,
   "metadata": {},
   "outputs": [],
   "source": [
    "plt.boxplot(data['Weight (Kilograms)'])"
   ]
  },
  {
   "cell_type": "code",
   "execution_count": null,
   "metadata": {},
   "outputs": [],
   "source": [
    "data.boxplot(figsize=(20,15))\n"
   ]
  },
  {
   "cell_type": "markdown",
   "metadata": {},
   "source": [
    "Freight_cost_by_order_by_country_order"
   ]
  },
  {
   "cell_type": "code",
   "execution_count": null,
   "metadata": {},
   "outputs": [],
   "source": [
    "\n",
    "plt.figure(figsize=(30,10))\n",
    "plt.rc({'font.size':30})\n",
    "plt.bar(country_summary.Country,country_summary.freight_cost_by_order)\n",
    "plt.xticks(rotation='vertical')\n",
    "plt.ylabel('freight_cost_by_order')\n",
    "plt.xlabel('Country')\n",
    "plt.title('freight_cost_by_order_by_country_order')\n",
    "plt.show()"
   ]
  },
  {
   "cell_type": "markdown",
   "metadata": {},
   "source": [
    "Freight_cost_by_order_by_shipment_mode"
   ]
  },
  {
   "cell_type": "code",
   "execution_count": null,
   "metadata": {},
   "outputs": [],
   "source": [
    "plt.figure(figsize=(30,10))\n",
    "plt.rc({'font.size':30})\n",
    "# plt.bar(country_summary.freight_cost_by_order,country_summary.Shipment Mode)\n",
    "sns.barplot(x='Shipment Mode',y='freight_cost_by_order',data=country_summary)\n",
    "plt.ylabel('freight_cost_by_order')\n",
    "plt.xlabel('Shipment Mode')\n",
    "plt.title('freight_cost_by_order_by_shipment_mode')\n",
    "plt.show()"
   ]
  },
  {
   "cell_type": "markdown",
   "metadata": {},
   "source": [
    "Order_by_country"
   ]
  },
  {
   "cell_type": "code",
   "execution_count": null,
   "metadata": {},
   "outputs": [],
   "source": [
    "plt.figure(figsize=(30,10))\n",
    "plt.rc({'font.size':30})\n",
    "sns.barplot(x='Country',y='PO / SO #',data=country_summary)\n",
    "plt.xticks(rotation='vertical')\n",
    "plt.ylabel('orders')\n",
    "plt.xlabel('Country')\n",
    "plt.title('order_by_country')\n",
    "plt.show()"
   ]
  },
  {
   "cell_type": "markdown",
   "metadata": {},
   "source": [
    "This graph is displaying that Vietnam is a highest order country"
   ]
  },
  {
   "cell_type": "markdown",
   "metadata": {},
   "source": [
    "Top_ten_country_by_freight_cost"
   ]
  },
  {
   "cell_type": "code",
   "execution_count": null,
   "metadata": {},
   "outputs": [],
   "source": [
    "plt.figure(figsize=(40,20))\n",
    "plt.rc({'font.size':30})\n",
    "sns.barplot(x='Country',y='Freight Cost (USD)',data=top_ten_country_by_freight_cost)\n",
    "plt.xticks(rotation='vertical')\n",
    "plt.ylabel('Freight Cost (USD)')\n",
    "plt.xlabel('Country')\n",
    "plt.title('Top_ten_country_by_freight_cost')\n",
    "plt.show()"
   ]
  },
  {
   "cell_type": "markdown",
   "metadata": {},
   "source": [
    "Here Nigeria is a top country by freight cost"
   ]
  },
  {
   "cell_type": "markdown",
   "metadata": {},
   "source": [
    "Manufacturing Site by freight cost"
   ]
  },
  {
   "cell_type": "code",
   "execution_count": null,
   "metadata": {},
   "outputs": [],
   "source": [
    "plt.figure(figsize=(80,40))\n",
    "plt.rc({'font.size':120})\n",
    "sns.barplot(x='Manufacturing Site',y='Freight Cost (USD)',data=mf_summary)\n",
    "plt.xticks(rotation='vertical')\n",
    "plt.ylabel('Freight Cost (USD)')\n",
    "plt.xlabel('Manufacturing Site ')\n",
    "plt.title('Manufacturing Site by freight cost')\n",
    "plt.show()"
   ]
  },
  {
   "cell_type": "markdown",
   "metadata": {},
   "source": [
    "Manufacturing Site by order"
   ]
  },
  {
   "cell_type": "code",
   "execution_count": null,
   "metadata": {},
   "outputs": [],
   "source": [
    "plt.figure(figsize=(40,20))\n",
    "plt.rc({'font.size':30})\n",
    "sns.barplot(x='Manufacturing Site',y='PO / SO #',data=mf_summary)\n",
    "plt.xticks(rotation='vertical')\n",
    "plt.ylabel('Manufacturing Site ')\n",
    "plt.xlabel('Order')\n",
    "plt.title('Manufacturing Site by order')\n",
    "plt.show()"
   ]
  },
  {
   "cell_type": "markdown",
   "metadata": {},
   "source": [
    "The above graph is displaying that Aurobindo Unit III,India is highest manufacturing site."
   ]
  },
  {
   "cell_type": "markdown",
   "metadata": {},
   "source": [
    "UN NECESSARY DATA REMOVE"
   ]
  },
  {
   "cell_type": "code",
   "execution_count": 80,
   "metadata": {},
   "outputs": [
    {
     "data": {
      "text/html": [
       "<div>\n",
       "<style scoped>\n",
       "    .dataframe tbody tr th:only-of-type {\n",
       "        vertical-align: middle;\n",
       "    }\n",
       "\n",
       "    .dataframe tbody tr th {\n",
       "        vertical-align: top;\n",
       "    }\n",
       "\n",
       "    .dataframe thead th {\n",
       "        text-align: right;\n",
       "    }\n",
       "</style>\n",
       "<table border=\"1\" class=\"dataframe\">\n",
       "  <thead>\n",
       "    <tr style=\"text-align: right;\">\n",
       "      <th></th>\n",
       "      <th>ID</th>\n",
       "      <th>Unit of Measure (Per Pack)</th>\n",
       "      <th>Line Item Quantity</th>\n",
       "      <th>Line Item Value</th>\n",
       "      <th>Weight (Kilograms)</th>\n",
       "      <th>Freight Cost (USD)</th>\n",
       "    </tr>\n",
       "  </thead>\n",
       "  <tbody>\n",
       "    <tr>\n",
       "      <th>0</th>\n",
       "      <td>1</td>\n",
       "      <td>30</td>\n",
       "      <td>19</td>\n",
       "      <td>551.00</td>\n",
       "      <td>13</td>\n",
       "      <td>780.34</td>\n",
       "    </tr>\n",
       "    <tr>\n",
       "      <th>1</th>\n",
       "      <td>3</td>\n",
       "      <td>240</td>\n",
       "      <td>1000</td>\n",
       "      <td>6200.00</td>\n",
       "      <td>358</td>\n",
       "      <td>4521.50</td>\n",
       "    </tr>\n",
       "    <tr>\n",
       "      <th>2</th>\n",
       "      <td>4</td>\n",
       "      <td>100</td>\n",
       "      <td>500</td>\n",
       "      <td>40000.00</td>\n",
       "      <td>171</td>\n",
       "      <td>1653.78</td>\n",
       "    </tr>\n",
       "    <tr>\n",
       "      <th>3</th>\n",
       "      <td>15</td>\n",
       "      <td>60</td>\n",
       "      <td>31920</td>\n",
       "      <td>127360.80</td>\n",
       "      <td>1855</td>\n",
       "      <td>16007.06</td>\n",
       "    </tr>\n",
       "    <tr>\n",
       "      <th>4</th>\n",
       "      <td>16</td>\n",
       "      <td>60</td>\n",
       "      <td>38000</td>\n",
       "      <td>121600.00</td>\n",
       "      <td>7590</td>\n",
       "      <td>45450.08</td>\n",
       "    </tr>\n",
       "    <tr>\n",
       "      <th>5</th>\n",
       "      <td>23</td>\n",
       "      <td>240</td>\n",
       "      <td>416</td>\n",
       "      <td>2225.60</td>\n",
       "      <td>504</td>\n",
       "      <td>5920.42</td>\n",
       "    </tr>\n",
       "    <tr>\n",
       "      <th>7</th>\n",
       "      <td>45</td>\n",
       "      <td>60</td>\n",
       "      <td>16667</td>\n",
       "      <td>60834.55</td>\n",
       "      <td>1478</td>\n",
       "      <td>6212.41</td>\n",
       "    </tr>\n",
       "    <tr>\n",
       "      <th>11</th>\n",
       "      <td>61</td>\n",
       "      <td>20</td>\n",
       "      <td>2500</td>\n",
       "      <td>100000.00</td>\n",
       "      <td>853</td>\n",
       "      <td>13569.49</td>\n",
       "    </tr>\n",
       "    <tr>\n",
       "      <th>13</th>\n",
       "      <td>64</td>\n",
       "      <td>60</td>\n",
       "      <td>10000</td>\n",
       "      <td>99800.00</td>\n",
       "      <td>7416</td>\n",
       "      <td>64179.42</td>\n",
       "    </tr>\n",
       "    <tr>\n",
       "      <th>14</th>\n",
       "      <td>65</td>\n",
       "      <td>100</td>\n",
       "      <td>750</td>\n",
       "      <td>60000.00</td>\n",
       "      <td>256</td>\n",
       "      <td>1760.32</td>\n",
       "    </tr>\n",
       "  </tbody>\n",
       "</table>\n",
       "</div>"
      ],
      "text/plain": [
       "    ID  Unit of Measure (Per Pack)  Line Item Quantity  Line Item Value  \\\n",
       "0    1                          30                  19           551.00   \n",
       "1    3                         240                1000          6200.00   \n",
       "2    4                         100                 500         40000.00   \n",
       "3   15                          60               31920        127360.80   \n",
       "4   16                          60               38000        121600.00   \n",
       "5   23                         240                 416          2225.60   \n",
       "7   45                          60               16667         60834.55   \n",
       "11  61                          20                2500        100000.00   \n",
       "13  64                          60               10000         99800.00   \n",
       "14  65                         100                 750         60000.00   \n",
       "\n",
       "    Weight (Kilograms)  Freight Cost (USD)  \n",
       "0                   13              780.34  \n",
       "1                  358             4521.50  \n",
       "2                  171             1653.78  \n",
       "3                 1855            16007.06  \n",
       "4                 7590            45450.08  \n",
       "5                  504             5920.42  \n",
       "7                 1478             6212.41  \n",
       "11                 853            13569.49  \n",
       "13                7416            64179.42  \n",
       "14                 256             1760.32  "
      ]
     },
     "execution_count": 80,
     "metadata": {},
     "output_type": "execute_result"
    }
   ],
   "source": [
    "X=data.drop(['Pack Price','Unit Price','Freight Cost (USD)','First Line Designation','Line Item Insurance (USD)','Manufacturing Site','Dosage Form','Dosage','Brand','Sub Classification','Product Group','Delivery Recorded Date','Delivered to Client Date','Scheduled Delivery Date','PO Sent to Vendor Date','PQ First Sent to Client Date','Shipment Mode','Vendor INCO Term','Fulfill Via','Managed By','Country','ASN/DN #','PO / SO #','PQ #','Project Code'],axis=1)\n",
    "data_1=X.copy()\n",
    "Y1=data['Pack Price']\n",
    "Y2= data['Unit Price']\n",
    "Y3=data['Freight Cost (USD)']\n",
    "X.head(10)\n",
    "# data_1.head(10)"
   ]
  },
  {
   "cell_type": "markdown",
   "metadata": {},
   "source": [
    "DATA SPLITTING"
   ]
  },
  {
   "cell_type": "code",
   "execution_count": 81,
   "metadata": {},
   "outputs": [],
   "source": [
    "X_train,X_test = train_test_split(X,test_size=0.2,random_state=0)\n",
    "Y1_train,Y1_test = train_test_split(Y1,test_size=0.2,random_state=0)\n",
    "Y2_train,Y2_test = train_test_split(Y2,test_size=0.2,random_state=0)\n",
    "Y3_train,Y3_test = train_test_split(Y3,test_size=0.2,random_state=0)"
   ]
  },
  {
   "cell_type": "code",
   "execution_count": 82,
   "metadata": {},
   "outputs": [
    {
     "data": {
      "text/plain": [
       "25.417910931174088"
      ]
     },
     "execution_count": 82,
     "metadata": {},
     "output_type": "execute_result"
    }
   ],
   "source": [
    "y1_mean=Y1_test.mean()\n",
    "y1_mean"
   ]
  },
  {
   "cell_type": "markdown",
   "metadata": {},
   "source": [
    "## FOR PACK PRICE"
   ]
  },
  {
   "cell_type": "markdown",
   "metadata": {},
   "source": [
    "MODEL FITTING"
   ]
  },
  {
   "cell_type": "code",
   "execution_count": 83,
   "metadata": {},
   "outputs": [],
   "source": [
    "final_list=[]\n",
    "final_list2=[]\n",
    "final_list3=[]\n",
    "model=[LinearRegression(),DecisionTreeRegressor(),RandomForestRegressor(),xgb.XGBRegressor(),SVR(),GradientBoostingRegressor(),Lasso()]\n",
    "result={}\n",
    "for j in [5, 10, 15, 20,25, 30,35,39]:\n",
    "        new=[]\n",
    "       \n",
    "        for i in model:\n",
    "            \n",
    "            \n",
    "            i.fit(X_train,Y1_train)\n",
    "            pred=i.predict(X_test)\n",
    "            rmse = np.sqrt(mean_squared_error(Y1_test, pred))\n",
    "            new.append(i.score(X_test, Y1_test))\n",
    "            # scores=(cross_val_score(i,X_train,Y1_train,scoring=\"neg_mean_squared_error\"))\n",
    "        final_list.append(new)\n",
    "        # final_list2.append(scores)\n",
    "        # final_list3.append(r2_score(sc)ores))"
   ]
  },
  {
   "cell_type": "code",
   "execution_count": 84,
   "metadata": {},
   "outputs": [
    {
     "name": "stdout",
     "output_type": "stream",
     "text": [
      "-1705.8394082665357\t-597.4557822064778\t-487.90526650601214\t-368.84509329854956\t-2005.9405946073603\t-340.6204267597239\t-1705.8342172670805\t"
     ]
    }
   ],
   "source": [
    "for i in model:\n",
    "    scores=(cross_val_score(i,X_train,Y1_train,scoring=\"neg_mean_squared_error\"))\n",
    "    print(scores.mean(),end=\"\\t\")"
   ]
  },
  {
   "cell_type": "markdown",
   "metadata": {},
   "source": [
    "SHOW R2_SCORE VALUES IN TABLE"
   ]
  },
  {
   "cell_type": "code",
   "execution_count": 85,
   "metadata": {},
   "outputs": [
    {
     "data": {
      "text/html": [
       "<div>\n",
       "<style scoped>\n",
       "    .dataframe tbody tr th:only-of-type {\n",
       "        vertical-align: middle;\n",
       "    }\n",
       "\n",
       "    .dataframe tbody tr th {\n",
       "        vertical-align: top;\n",
       "    }\n",
       "\n",
       "    .dataframe thead th {\n",
       "        text-align: right;\n",
       "    }\n",
       "</style>\n",
       "<table border=\"1\" class=\"dataframe\">\n",
       "  <thead>\n",
       "    <tr style=\"text-align: right;\">\n",
       "      <th></th>\n",
       "      <th>Linear Regression</th>\n",
       "      <th>Decision Tree Regressor</th>\n",
       "      <th>Random Forest Regressor</th>\n",
       "      <th>XGBRegressor()</th>\n",
       "      <th>svr</th>\n",
       "      <th>gradient boost</th>\n",
       "      <th>lasso</th>\n",
       "    </tr>\n",
       "  </thead>\n",
       "  <tbody>\n",
       "    <tr>\n",
       "      <th>5</th>\n",
       "      <td>0.05844</td>\n",
       "      <td>0.668169</td>\n",
       "      <td>0.591322</td>\n",
       "      <td>0.679592</td>\n",
       "      <td>-0.026428</td>\n",
       "      <td>0.717638</td>\n",
       "      <td>0.058449</td>\n",
       "    </tr>\n",
       "    <tr>\n",
       "      <th>10</th>\n",
       "      <td>0.05844</td>\n",
       "      <td>0.666778</td>\n",
       "      <td>0.599448</td>\n",
       "      <td>0.679592</td>\n",
       "      <td>-0.026428</td>\n",
       "      <td>0.723765</td>\n",
       "      <td>0.058449</td>\n",
       "    </tr>\n",
       "    <tr>\n",
       "      <th>15</th>\n",
       "      <td>0.05844</td>\n",
       "      <td>0.678349</td>\n",
       "      <td>0.611496</td>\n",
       "      <td>0.679592</td>\n",
       "      <td>-0.026428</td>\n",
       "      <td>0.650672</td>\n",
       "      <td>0.058449</td>\n",
       "    </tr>\n",
       "    <tr>\n",
       "      <th>20</th>\n",
       "      <td>0.05844</td>\n",
       "      <td>0.630018</td>\n",
       "      <td>0.605863</td>\n",
       "      <td>0.679592</td>\n",
       "      <td>-0.026428</td>\n",
       "      <td>0.662010</td>\n",
       "      <td>0.058449</td>\n",
       "    </tr>\n",
       "    <tr>\n",
       "      <th>25</th>\n",
       "      <td>0.05844</td>\n",
       "      <td>0.638601</td>\n",
       "      <td>0.585777</td>\n",
       "      <td>0.679592</td>\n",
       "      <td>-0.026428</td>\n",
       "      <td>0.712599</td>\n",
       "      <td>0.058449</td>\n",
       "    </tr>\n",
       "    <tr>\n",
       "      <th>30</th>\n",
       "      <td>0.05844</td>\n",
       "      <td>0.656929</td>\n",
       "      <td>0.628185</td>\n",
       "      <td>0.679592</td>\n",
       "      <td>-0.026428</td>\n",
       "      <td>0.664705</td>\n",
       "      <td>0.058449</td>\n",
       "    </tr>\n",
       "    <tr>\n",
       "      <th>35</th>\n",
       "      <td>0.05844</td>\n",
       "      <td>0.666480</td>\n",
       "      <td>0.587063</td>\n",
       "      <td>0.679592</td>\n",
       "      <td>-0.026428</td>\n",
       "      <td>0.690539</td>\n",
       "      <td>0.058449</td>\n",
       "    </tr>\n",
       "    <tr>\n",
       "      <th>39</th>\n",
       "      <td>0.05844</td>\n",
       "      <td>0.663372</td>\n",
       "      <td>0.617830</td>\n",
       "      <td>0.679592</td>\n",
       "      <td>-0.026428</td>\n",
       "      <td>0.740286</td>\n",
       "      <td>0.058449</td>\n",
       "    </tr>\n",
       "  </tbody>\n",
       "</table>\n",
       "</div>"
      ],
      "text/plain": [
       "    Linear Regression  Decision Tree Regressor  Random Forest Regressor  \\\n",
       "5             0.05844                 0.668169                 0.591322   \n",
       "10            0.05844                 0.666778                 0.599448   \n",
       "15            0.05844                 0.678349                 0.611496   \n",
       "20            0.05844                 0.630018                 0.605863   \n",
       "25            0.05844                 0.638601                 0.585777   \n",
       "30            0.05844                 0.656929                 0.628185   \n",
       "35            0.05844                 0.666480                 0.587063   \n",
       "39            0.05844                 0.663372                 0.617830   \n",
       "\n",
       "    XGBRegressor()       svr  gradient boost     lasso  \n",
       "5         0.679592 -0.026428        0.717638  0.058449  \n",
       "10        0.679592 -0.026428        0.723765  0.058449  \n",
       "15        0.679592 -0.026428        0.650672  0.058449  \n",
       "20        0.679592 -0.026428        0.662010  0.058449  \n",
       "25        0.679592 -0.026428        0.712599  0.058449  \n",
       "30        0.679592 -0.026428        0.664705  0.058449  \n",
       "35        0.679592 -0.026428        0.690539  0.058449  \n",
       "39        0.679592 -0.026428        0.740286  0.058449  "
      ]
     },
     "execution_count": 85,
     "metadata": {},
     "output_type": "execute_result"
    }
   ],
   "source": [
    "pd.DataFrame(final_list,index=['5', '10', '15', '20', '25', '30','35','39'], columns=['Linear Regression','Decision Tree Regressor','Random Forest Regressor','XGBRegressor()','svr','gradient boost','lasso'])"
   ]
  },
  {
   "cell_type": "markdown",
   "metadata": {},
   "source": [
    "SHOW TABLE FOR EVERY REGRESSOR ERROR VALUE "
   ]
  },
  {
   "cell_type": "code",
   "execution_count": 86,
   "metadata": {},
   "outputs": [],
   "source": [
    "all=[]\n",
    "mse=[]\n",
    "rms=[]\n",
    "r2score=[]\n",
    "\n",
    "for i in model:\n",
    "    i.fit(X_train,Y1_train)\n",
    "    pred=i.predict(X_test)\n",
    "    mse.append(mean_squared_error(Y1_test, pred))\n",
    "    rms.append(np.sqrt(mean_squared_error(Y1_test, pred)))\n",
    "    r2score.append(r2_score(Y1_test, pred))\n",
    "all.append(mse)\n",
    "all.append(rms)\n",
    "all.append(r2score)"
   ]
  },
  {
   "cell_type": "code",
   "execution_count": 87,
   "metadata": {},
   "outputs": [
    {
     "data": {
      "text/html": [
       "<div>\n",
       "<style scoped>\n",
       "    .dataframe tbody tr th:only-of-type {\n",
       "        vertical-align: middle;\n",
       "    }\n",
       "\n",
       "    .dataframe tbody tr th {\n",
       "        vertical-align: top;\n",
       "    }\n",
       "\n",
       "    .dataframe thead th {\n",
       "        text-align: right;\n",
       "    }\n",
       "</style>\n",
       "<table border=\"1\" class=\"dataframe\">\n",
       "  <thead>\n",
       "    <tr style=\"text-align: right;\">\n",
       "      <th></th>\n",
       "      <th>Linear Regression</th>\n",
       "      <th>Decision Tree Regressor</th>\n",
       "      <th>Random Forest Regressor</th>\n",
       "      <th>XGBRegressor</th>\n",
       "      <th>svr</th>\n",
       "      <th>gradient boost</th>\n",
       "      <th>Lasso</th>\n",
       "    </tr>\n",
       "  </thead>\n",
       "  <tbody>\n",
       "    <tr>\n",
       "      <th>MEAN SQUARED ERROR</th>\n",
       "      <td>3502.278516</td>\n",
       "      <td>1202.558733</td>\n",
       "      <td>1492.269530</td>\n",
       "      <td>1191.808114</td>\n",
       "      <td>3817.956952</td>\n",
       "      <td>1147.820922</td>\n",
       "      <td>3502.243690</td>\n",
       "    </tr>\n",
       "    <tr>\n",
       "      <th>ROOT MEAN SQUARED ERROR</th>\n",
       "      <td>59.180052</td>\n",
       "      <td>34.677929</td>\n",
       "      <td>38.629905</td>\n",
       "      <td>34.522574</td>\n",
       "      <td>61.789618</td>\n",
       "      <td>33.879506</td>\n",
       "      <td>59.179757</td>\n",
       "    </tr>\n",
       "    <tr>\n",
       "      <th>R2 SCORE</th>\n",
       "      <td>0.058440</td>\n",
       "      <td>0.676701</td>\n",
       "      <td>0.598815</td>\n",
       "      <td>0.679592</td>\n",
       "      <td>-0.026428</td>\n",
       "      <td>0.691417</td>\n",
       "      <td>0.058449</td>\n",
       "    </tr>\n",
       "  </tbody>\n",
       "</table>\n",
       "</div>"
      ],
      "text/plain": [
       "                         Linear Regression  Decision Tree Regressor  \\\n",
       "MEAN SQUARED ERROR             3502.278516              1202.558733   \n",
       "ROOT MEAN SQUARED ERROR          59.180052                34.677929   \n",
       "R2 SCORE                          0.058440                 0.676701   \n",
       "\n",
       "                         Random Forest Regressor  XGBRegressor          svr  \\\n",
       "MEAN SQUARED ERROR                   1492.269530   1191.808114  3817.956952   \n",
       "ROOT MEAN SQUARED ERROR                38.629905     34.522574    61.789618   \n",
       "R2 SCORE                                0.598815      0.679592    -0.026428   \n",
       "\n",
       "                         gradient boost        Lasso  \n",
       "MEAN SQUARED ERROR          1147.820922  3502.243690  \n",
       "ROOT MEAN SQUARED ERROR       33.879506    59.179757  \n",
       "R2 SCORE                       0.691417     0.058449  "
      ]
     },
     "execution_count": 87,
     "metadata": {},
     "output_type": "execute_result"
    }
   ],
   "source": [
    "pd.DataFrame(all,index=['MEAN SQUARED ERROR','ROOT MEAN SQUARED ERROR','R2 SCORE'], columns=['Linear Regression','Decision Tree Regressor','Random Forest Regressor','XGBRegressor','svr','gradient boost','Lasso'])"
   ]
  },
  {
   "cell_type": "markdown",
   "metadata": {},
   "source": [
    "Show here, XGBregressor has best r2_score is approximately 0.703370"
   ]
  },
  {
   "cell_type": "markdown",
   "metadata": {},
   "source": [
    "## FOR UNIT PRICE"
   ]
  },
  {
   "cell_type": "code",
   "execution_count": 88,
   "metadata": {},
   "outputs": [],
   "source": [
    "final_list=[]\n",
    "final_list2=[]\n",
    "final_list3=[]\n",
    "model=[LinearRegression(),DecisionTreeRegressor(),RandomForestRegressor(),xgb.XGBRegressor(),AdaBoostRegressor(),SVR(),GradientBoostingRegressor(),Lasso()]\n",
    "result={}\n",
    "for j in [5, 10, 15, 20,25, 30,35,39]:\n",
    "        new=[]\n",
    "       \n",
    "        for i in model:\n",
    "            \n",
    "            \n",
    "            i.fit(X_train,Y2_train)\n",
    "            pred=i.predict(X_test)\n",
    "            rmse = np.sqrt(mean_squared_error(Y2_test, pred))\n",
    "            new.append(i.score(X_test, Y2_test))\n",
    "            # scores=(cross_val_score(i,X_train,Y1_train,scoring=\"neg_mean_squared_error\"))\n",
    "        final_list.append(new)"
   ]
  },
  {
   "cell_type": "code",
   "execution_count": 89,
   "metadata": {},
   "outputs": [
    {
     "name": "stdout",
     "output_type": "stream",
     "text": [
      "-17.979706575711454\t-10.194947550607287\t-10.4951512762085\t-10.583713289372914\t-11.225875921168509\t-18.609242156254624\t-9.992701200467591\t-17.97953296923253\t"
     ]
    }
   ],
   "source": [
    "for i in model:\n",
    "    scores=(cross_val_score(i,X_train,Y2_train,scoring=\"neg_mean_squared_error\"))\n",
    "    print(scores.mean(),end=\"\\t\")"
   ]
  },
  {
   "cell_type": "code",
   "execution_count": 90,
   "metadata": {},
   "outputs": [
    {
     "data": {
      "text/html": [
       "<div>\n",
       "<style scoped>\n",
       "    .dataframe tbody tr th:only-of-type {\n",
       "        vertical-align: middle;\n",
       "    }\n",
       "\n",
       "    .dataframe tbody tr th {\n",
       "        vertical-align: top;\n",
       "    }\n",
       "\n",
       "    .dataframe thead th {\n",
       "        text-align: right;\n",
       "    }\n",
       "</style>\n",
       "<table border=\"1\" class=\"dataframe\">\n",
       "  <thead>\n",
       "    <tr style=\"text-align: right;\">\n",
       "      <th></th>\n",
       "      <th>Linear Regression</th>\n",
       "      <th>Decision Tree Regressor</th>\n",
       "      <th>Random Forest Regressor</th>\n",
       "      <th>XGBRegressor()</th>\n",
       "      <th>AdaBoostRegressor</th>\n",
       "      <th>svr</th>\n",
       "      <th>gradient boost</th>\n",
       "      <th>Lasso</th>\n",
       "    </tr>\n",
       "  </thead>\n",
       "  <tbody>\n",
       "    <tr>\n",
       "      <th>5</th>\n",
       "      <td>0.06816</td>\n",
       "      <td>0.828668</td>\n",
       "      <td>0.838492</td>\n",
       "      <td>0.87597</td>\n",
       "      <td>0.817502</td>\n",
       "      <td>-0.007683</td>\n",
       "      <td>0.848823</td>\n",
       "      <td>0.068119</td>\n",
       "    </tr>\n",
       "    <tr>\n",
       "      <th>10</th>\n",
       "      <td>0.06816</td>\n",
       "      <td>0.823061</td>\n",
       "      <td>0.840220</td>\n",
       "      <td>0.87597</td>\n",
       "      <td>0.699665</td>\n",
       "      <td>-0.007683</td>\n",
       "      <td>0.848793</td>\n",
       "      <td>0.068119</td>\n",
       "    </tr>\n",
       "    <tr>\n",
       "      <th>15</th>\n",
       "      <td>0.06816</td>\n",
       "      <td>0.821880</td>\n",
       "      <td>0.841624</td>\n",
       "      <td>0.87597</td>\n",
       "      <td>0.784256</td>\n",
       "      <td>-0.007683</td>\n",
       "      <td>0.848929</td>\n",
       "      <td>0.068119</td>\n",
       "    </tr>\n",
       "    <tr>\n",
       "      <th>20</th>\n",
       "      <td>0.06816</td>\n",
       "      <td>0.821523</td>\n",
       "      <td>0.842474</td>\n",
       "      <td>0.87597</td>\n",
       "      <td>0.733757</td>\n",
       "      <td>-0.007683</td>\n",
       "      <td>0.849286</td>\n",
       "      <td>0.068119</td>\n",
       "    </tr>\n",
       "    <tr>\n",
       "      <th>25</th>\n",
       "      <td>0.06816</td>\n",
       "      <td>0.822434</td>\n",
       "      <td>0.840546</td>\n",
       "      <td>0.87597</td>\n",
       "      <td>0.675314</td>\n",
       "      <td>-0.007683</td>\n",
       "      <td>0.847053</td>\n",
       "      <td>0.068119</td>\n",
       "    </tr>\n",
       "    <tr>\n",
       "      <th>30</th>\n",
       "      <td>0.06816</td>\n",
       "      <td>0.828896</td>\n",
       "      <td>0.837855</td>\n",
       "      <td>0.87597</td>\n",
       "      <td>0.752435</td>\n",
       "      <td>-0.007683</td>\n",
       "      <td>0.846961</td>\n",
       "      <td>0.068119</td>\n",
       "    </tr>\n",
       "    <tr>\n",
       "      <th>35</th>\n",
       "      <td>0.06816</td>\n",
       "      <td>0.828055</td>\n",
       "      <td>0.849262</td>\n",
       "      <td>0.87597</td>\n",
       "      <td>0.802025</td>\n",
       "      <td>-0.007683</td>\n",
       "      <td>0.849021</td>\n",
       "      <td>0.068119</td>\n",
       "    </tr>\n",
       "    <tr>\n",
       "      <th>39</th>\n",
       "      <td>0.06816</td>\n",
       "      <td>0.823229</td>\n",
       "      <td>0.841225</td>\n",
       "      <td>0.87597</td>\n",
       "      <td>0.654105</td>\n",
       "      <td>-0.007683</td>\n",
       "      <td>0.847125</td>\n",
       "      <td>0.068119</td>\n",
       "    </tr>\n",
       "  </tbody>\n",
       "</table>\n",
       "</div>"
      ],
      "text/plain": [
       "    Linear Regression  Decision Tree Regressor  Random Forest Regressor  \\\n",
       "5             0.06816                 0.828668                 0.838492   \n",
       "10            0.06816                 0.823061                 0.840220   \n",
       "15            0.06816                 0.821880                 0.841624   \n",
       "20            0.06816                 0.821523                 0.842474   \n",
       "25            0.06816                 0.822434                 0.840546   \n",
       "30            0.06816                 0.828896                 0.837855   \n",
       "35            0.06816                 0.828055                 0.849262   \n",
       "39            0.06816                 0.823229                 0.841225   \n",
       "\n",
       "    XGBRegressor()  AdaBoostRegressor       svr  gradient boost     Lasso  \n",
       "5          0.87597           0.817502 -0.007683        0.848823  0.068119  \n",
       "10         0.87597           0.699665 -0.007683        0.848793  0.068119  \n",
       "15         0.87597           0.784256 -0.007683        0.848929  0.068119  \n",
       "20         0.87597           0.733757 -0.007683        0.849286  0.068119  \n",
       "25         0.87597           0.675314 -0.007683        0.847053  0.068119  \n",
       "30         0.87597           0.752435 -0.007683        0.846961  0.068119  \n",
       "35         0.87597           0.802025 -0.007683        0.849021  0.068119  \n",
       "39         0.87597           0.654105 -0.007683        0.847125  0.068119  "
      ]
     },
     "execution_count": 90,
     "metadata": {},
     "output_type": "execute_result"
    }
   ],
   "source": [
    "pd.DataFrame(final_list,index=['5', '10', '15', '20', '25', '30','35','39'], columns=['Linear Regression','Decision Tree Regressor','Random Forest Regressor','XGBRegressor()','AdaBoostRegressor','svr','gradient boost','Lasso'])"
   ]
  },
  {
   "cell_type": "code",
   "execution_count": 91,
   "metadata": {},
   "outputs": [],
   "source": [
    "all=[]\n",
    "mse=[]\n",
    "rms=[]\n",
    "r2score=[]\n",
    "\n",
    "for i in model:\n",
    "    i.fit(X_train,Y2_train)\n",
    "    pred=i.predict(X_test)\n",
    "    mse.append(mean_squared_error(Y2_test, pred))\n",
    "    rms.append(np.sqrt(mean_squared_error(Y2_test, pred)))\n",
    "    r2score.append(r2_score(Y2_test, pred))\n",
    "all.append(mse)\n",
    "all.append(rms)\n",
    "all.append(r2score)"
   ]
  },
  {
   "cell_type": "code",
   "execution_count": 92,
   "metadata": {},
   "outputs": [
    {
     "data": {
      "text/html": [
       "<div>\n",
       "<style scoped>\n",
       "    .dataframe tbody tr th:only-of-type {\n",
       "        vertical-align: middle;\n",
       "    }\n",
       "\n",
       "    .dataframe tbody tr th {\n",
       "        vertical-align: top;\n",
       "    }\n",
       "\n",
       "    .dataframe thead th {\n",
       "        text-align: right;\n",
       "    }\n",
       "</style>\n",
       "<table border=\"1\" class=\"dataframe\">\n",
       "  <thead>\n",
       "    <tr style=\"text-align: right;\">\n",
       "      <th></th>\n",
       "      <th>Linear Regression</th>\n",
       "      <th>Decision Tree Regressor</th>\n",
       "      <th>Random Forest Regressor</th>\n",
       "      <th>XGBRegressor</th>\n",
       "      <th>AdaBoostRegressor</th>\n",
       "      <th>svr</th>\n",
       "      <th>gradient boost</th>\n",
       "      <th>Lasso</th>\n",
       "    </tr>\n",
       "  </thead>\n",
       "  <tbody>\n",
       "    <tr>\n",
       "      <th>MEAN SQUARED ERROR</th>\n",
       "      <td>7.461906</td>\n",
       "      <td>1.413052</td>\n",
       "      <td>1.369501</td>\n",
       "      <td>0.993197</td>\n",
       "      <td>2.393966</td>\n",
       "      <td>8.069237</td>\n",
       "      <td>1.218369</td>\n",
       "      <td>7.462239</td>\n",
       "    </tr>\n",
       "    <tr>\n",
       "      <th>ROOT MEAN SQUARED ERROR</th>\n",
       "      <td>2.731649</td>\n",
       "      <td>1.188719</td>\n",
       "      <td>1.170257</td>\n",
       "      <td>0.996593</td>\n",
       "      <td>1.547245</td>\n",
       "      <td>2.840640</td>\n",
       "      <td>1.103797</td>\n",
       "      <td>2.731710</td>\n",
       "    </tr>\n",
       "    <tr>\n",
       "      <th>R2 SCORE</th>\n",
       "      <td>0.068160</td>\n",
       "      <td>0.823539</td>\n",
       "      <td>0.828977</td>\n",
       "      <td>0.875970</td>\n",
       "      <td>0.701043</td>\n",
       "      <td>-0.007683</td>\n",
       "      <td>0.847851</td>\n",
       "      <td>0.068119</td>\n",
       "    </tr>\n",
       "  </tbody>\n",
       "</table>\n",
       "</div>"
      ],
      "text/plain": [
       "                         Linear Regression  Decision Tree Regressor  \\\n",
       "MEAN SQUARED ERROR                7.461906                 1.413052   \n",
       "ROOT MEAN SQUARED ERROR           2.731649                 1.188719   \n",
       "R2 SCORE                          0.068160                 0.823539   \n",
       "\n",
       "                         Random Forest Regressor  XGBRegressor  \\\n",
       "MEAN SQUARED ERROR                      1.369501      0.993197   \n",
       "ROOT MEAN SQUARED ERROR                 1.170257      0.996593   \n",
       "R2 SCORE                                0.828977      0.875970   \n",
       "\n",
       "                         AdaBoostRegressor       svr  gradient boost     Lasso  \n",
       "MEAN SQUARED ERROR                2.393966  8.069237        1.218369  7.462239  \n",
       "ROOT MEAN SQUARED ERROR           1.547245  2.840640        1.103797  2.731710  \n",
       "R2 SCORE                          0.701043 -0.007683        0.847851  0.068119  "
      ]
     },
     "execution_count": 92,
     "metadata": {},
     "output_type": "execute_result"
    }
   ],
   "source": [
    "pd.DataFrame(all,index=['MEAN SQUARED ERROR','ROOT MEAN SQUARED ERROR','R2 SCORE'], columns=['Linear Regression','Decision Tree Regressor','Random Forest Regressor','XGBRegressor','AdaBoostRegressor','svr','gradient boost','Lasso'])"
   ]
  },
  {
   "cell_type": "markdown",
   "metadata": {},
   "source": [
    "## FOR FREIGHT COST"
   ]
  },
  {
   "cell_type": "code",
   "execution_count": 93,
   "metadata": {},
   "outputs": [],
   "source": [
    "final_list=[]\n",
    "final_list2=[]\n",
    "final_list3=[]\n",
    "model=[LinearRegression(),DecisionTreeRegressor(),RandomForestRegressor(),xgb.XGBRegressor(),AdaBoostRegressor(),SVR(),GradientBoostingRegressor(),Lasso()]\n",
    "result={}\n",
    "for j in [5, 10, 15, 20,25, 30,35,39]:\n",
    "        new=[]\n",
    "       \n",
    "        for i in model:\n",
    "            \n",
    "            \n",
    "            i.fit(X_train,Y3_train)\n",
    "            pred=i.predict(X_test)\n",
    "            rmse = np.sqrt(mean_squared_error(Y3_test, pred))\n",
    "            new.append(i.score(X_test, Y3_test))\n",
    "            # scores=(cross_val_score(i,X_train,Y1_train,scoring=\"neg_mean_squared_error\"))\n",
    "        final_list.append(new)"
   ]
  },
  {
   "cell_type": "code",
   "execution_count": 94,
   "metadata": {},
   "outputs": [
    {
     "name": "stdout",
     "output_type": "stream",
     "text": [
      "-3.9172774694465645e-21\t-1505658.622148544\t-1935228.0519993007\t-1039088.8801264793\t-8704990.963895537\t-270378305.50604475\t-1321670.8389587917\t-0.009101576321155986\t"
     ]
    }
   ],
   "source": [
    "for i in model:\n",
    "    scores=(cross_val_score(i,X_train,Y3_train,scoring=\"neg_mean_squared_error\"))\n",
    "    print(scores.mean(),end=\"\\t\")"
   ]
  },
  {
   "cell_type": "code",
   "execution_count": 95,
   "metadata": {},
   "outputs": [
    {
     "data": {
      "text/html": [
       "<div>\n",
       "<style scoped>\n",
       "    .dataframe tbody tr th:only-of-type {\n",
       "        vertical-align: middle;\n",
       "    }\n",
       "\n",
       "    .dataframe tbody tr th {\n",
       "        vertical-align: top;\n",
       "    }\n",
       "\n",
       "    .dataframe thead th {\n",
       "        text-align: right;\n",
       "    }\n",
       "</style>\n",
       "<table border=\"1\" class=\"dataframe\">\n",
       "  <thead>\n",
       "    <tr style=\"text-align: right;\">\n",
       "      <th></th>\n",
       "      <th>Linear Regression</th>\n",
       "      <th>Decision Tree Regressor</th>\n",
       "      <th>Random Forest Regressor</th>\n",
       "      <th>XGBRegressor()</th>\n",
       "      <th>AdaBoostRegressor</th>\n",
       "      <th>svr</th>\n",
       "      <th>gradient boost</th>\n",
       "      <th>Lasso</th>\n",
       "    </tr>\n",
       "  </thead>\n",
       "  <tbody>\n",
       "    <tr>\n",
       "      <th>5</th>\n",
       "      <td>1.0</td>\n",
       "      <td>0.998051</td>\n",
       "      <td>0.998225</td>\n",
       "      <td>0.999082</td>\n",
       "      <td>0.958740</td>\n",
       "      <td>-0.099974</td>\n",
       "      <td>0.999642</td>\n",
       "      <td>1.0</td>\n",
       "    </tr>\n",
       "    <tr>\n",
       "      <th>10</th>\n",
       "      <td>1.0</td>\n",
       "      <td>0.998091</td>\n",
       "      <td>0.998235</td>\n",
       "      <td>0.999082</td>\n",
       "      <td>0.976609</td>\n",
       "      <td>-0.099974</td>\n",
       "      <td>0.999640</td>\n",
       "      <td>1.0</td>\n",
       "    </tr>\n",
       "    <tr>\n",
       "      <th>15</th>\n",
       "      <td>1.0</td>\n",
       "      <td>0.998049</td>\n",
       "      <td>0.997755</td>\n",
       "      <td>0.999082</td>\n",
       "      <td>0.968716</td>\n",
       "      <td>-0.099974</td>\n",
       "      <td>0.999643</td>\n",
       "      <td>1.0</td>\n",
       "    </tr>\n",
       "    <tr>\n",
       "      <th>20</th>\n",
       "      <td>1.0</td>\n",
       "      <td>0.998092</td>\n",
       "      <td>0.999551</td>\n",
       "      <td>0.999082</td>\n",
       "      <td>0.978068</td>\n",
       "      <td>-0.099974</td>\n",
       "      <td>0.999641</td>\n",
       "      <td>1.0</td>\n",
       "    </tr>\n",
       "    <tr>\n",
       "      <th>25</th>\n",
       "      <td>1.0</td>\n",
       "      <td>0.999572</td>\n",
       "      <td>0.998863</td>\n",
       "      <td>0.999082</td>\n",
       "      <td>0.973465</td>\n",
       "      <td>-0.099974</td>\n",
       "      <td>0.999642</td>\n",
       "      <td>1.0</td>\n",
       "    </tr>\n",
       "    <tr>\n",
       "      <th>30</th>\n",
       "      <td>1.0</td>\n",
       "      <td>0.998099</td>\n",
       "      <td>0.998151</td>\n",
       "      <td>0.999082</td>\n",
       "      <td>0.970884</td>\n",
       "      <td>-0.099974</td>\n",
       "      <td>0.999641</td>\n",
       "      <td>1.0</td>\n",
       "    </tr>\n",
       "    <tr>\n",
       "      <th>35</th>\n",
       "      <td>1.0</td>\n",
       "      <td>0.998064</td>\n",
       "      <td>0.998770</td>\n",
       "      <td>0.999082</td>\n",
       "      <td>0.965293</td>\n",
       "      <td>-0.099974</td>\n",
       "      <td>0.999641</td>\n",
       "      <td>1.0</td>\n",
       "    </tr>\n",
       "    <tr>\n",
       "      <th>39</th>\n",
       "      <td>1.0</td>\n",
       "      <td>0.998035</td>\n",
       "      <td>0.998615</td>\n",
       "      <td>0.999082</td>\n",
       "      <td>0.976251</td>\n",
       "      <td>-0.099974</td>\n",
       "      <td>0.999643</td>\n",
       "      <td>1.0</td>\n",
       "    </tr>\n",
       "  </tbody>\n",
       "</table>\n",
       "</div>"
      ],
      "text/plain": [
       "    Linear Regression  Decision Tree Regressor  Random Forest Regressor  \\\n",
       "5                 1.0                 0.998051                 0.998225   \n",
       "10                1.0                 0.998091                 0.998235   \n",
       "15                1.0                 0.998049                 0.997755   \n",
       "20                1.0                 0.998092                 0.999551   \n",
       "25                1.0                 0.999572                 0.998863   \n",
       "30                1.0                 0.998099                 0.998151   \n",
       "35                1.0                 0.998064                 0.998770   \n",
       "39                1.0                 0.998035                 0.998615   \n",
       "\n",
       "    XGBRegressor()  AdaBoostRegressor       svr  gradient boost  Lasso  \n",
       "5         0.999082           0.958740 -0.099974        0.999642    1.0  \n",
       "10        0.999082           0.976609 -0.099974        0.999640    1.0  \n",
       "15        0.999082           0.968716 -0.099974        0.999643    1.0  \n",
       "20        0.999082           0.978068 -0.099974        0.999641    1.0  \n",
       "25        0.999082           0.973465 -0.099974        0.999642    1.0  \n",
       "30        0.999082           0.970884 -0.099974        0.999641    1.0  \n",
       "35        0.999082           0.965293 -0.099974        0.999641    1.0  \n",
       "39        0.999082           0.976251 -0.099974        0.999643    1.0  "
      ]
     },
     "execution_count": 95,
     "metadata": {},
     "output_type": "execute_result"
    }
   ],
   "source": [
    "pd.DataFrame(final_list,index=['5', '10', '15', '20', '25', '30','35','39'], columns=['Linear Regression','Decision Tree Regressor','Random Forest Regressor','XGBRegressor()','AdaBoostRegressor','svr','gradient boost','Lasso'])"
   ]
  },
  {
   "cell_type": "code",
   "execution_count": 101,
   "metadata": {},
   "outputs": [],
   "source": [
    "all=[]\n",
    "mse=[]\n",
    "rms=[]\n",
    "r2score=[]\n",
    "\n",
    "for i in model:\n",
    "    i.fit(X_train,Y3_train)\n",
    "    pred=i.predict(X_test)\n",
    "    mse.append(mean_squared_error(Y3_test, pred))\n",
    "    rms.append(np.sqrt(mean_squared_error(Y3_test, pred)))\n",
    "    r2score.append(round(r2_score(Y3_test, pred),4))\n",
    "all.append(mse)\n",
    "all.append(rms)\n",
    "all.append(r2score)"
   ]
  },
  {
   "cell_type": "code",
   "execution_count": 102,
   "metadata": {},
   "outputs": [
    {
     "data": {
      "text/html": [
       "<div>\n",
       "<style scoped>\n",
       "    .dataframe tbody tr th:only-of-type {\n",
       "        vertical-align: middle;\n",
       "    }\n",
       "\n",
       "    .dataframe tbody tr th {\n",
       "        vertical-align: top;\n",
       "    }\n",
       "\n",
       "    .dataframe thead th {\n",
       "        text-align: right;\n",
       "    }\n",
       "</style>\n",
       "<table border=\"1\" class=\"dataframe\">\n",
       "  <thead>\n",
       "    <tr style=\"text-align: right;\">\n",
       "      <th></th>\n",
       "      <th>Linear Regression</th>\n",
       "      <th>Decision Tree Regressor</th>\n",
       "      <th>Random Forest Regressor</th>\n",
       "      <th>XGBRegressor</th>\n",
       "      <th>AdaBoostRegressor</th>\n",
       "      <th>svr</th>\n",
       "      <th>gradient boost</th>\n",
       "      <th>Lasso</th>\n",
       "    </tr>\n",
       "  </thead>\n",
       "  <tbody>\n",
       "    <tr>\n",
       "      <th>MEAN SQUARED ERROR</th>\n",
       "      <td>8.223395e-23</td>\n",
       "      <td>478212.970369</td>\n",
       "      <td>399662.867100</td>\n",
       "      <td>239371.258901</td>\n",
       "      <td>7.767820e+06</td>\n",
       "      <td>2.869244e+08</td>\n",
       "      <td>93291.178216</td>\n",
       "      <td>0.006057</td>\n",
       "    </tr>\n",
       "    <tr>\n",
       "      <th>ROOT MEAN SQUARED ERROR</th>\n",
       "      <td>9.068294e-12</td>\n",
       "      <td>691.529443</td>\n",
       "      <td>632.188949</td>\n",
       "      <td>489.255822</td>\n",
       "      <td>2.787081e+03</td>\n",
       "      <td>1.693884e+04</td>\n",
       "      <td>305.436046</td>\n",
       "      <td>0.077825</td>\n",
       "    </tr>\n",
       "    <tr>\n",
       "      <th>R2 SCORE</th>\n",
       "      <td>1.000000e+00</td>\n",
       "      <td>0.998200</td>\n",
       "      <td>0.998500</td>\n",
       "      <td>0.999100</td>\n",
       "      <td>9.702000e-01</td>\n",
       "      <td>-1.000000e-01</td>\n",
       "      <td>0.999600</td>\n",
       "      <td>1.000000</td>\n",
       "    </tr>\n",
       "  </tbody>\n",
       "</table>\n",
       "</div>"
      ],
      "text/plain": [
       "                         Linear Regression  Decision Tree Regressor  \\\n",
       "MEAN SQUARED ERROR            8.223395e-23            478212.970369   \n",
       "ROOT MEAN SQUARED ERROR       9.068294e-12               691.529443   \n",
       "R2 SCORE                      1.000000e+00                 0.998200   \n",
       "\n",
       "                         Random Forest Regressor   XGBRegressor  \\\n",
       "MEAN SQUARED ERROR                 399662.867100  239371.258901   \n",
       "ROOT MEAN SQUARED ERROR               632.188949     489.255822   \n",
       "R2 SCORE                                0.998500       0.999100   \n",
       "\n",
       "                         AdaBoostRegressor           svr  gradient boost  \\\n",
       "MEAN SQUARED ERROR            7.767820e+06  2.869244e+08    93291.178216   \n",
       "ROOT MEAN SQUARED ERROR       2.787081e+03  1.693884e+04      305.436046   \n",
       "R2 SCORE                      9.702000e-01 -1.000000e-01        0.999600   \n",
       "\n",
       "                            Lasso  \n",
       "MEAN SQUARED ERROR       0.006057  \n",
       "ROOT MEAN SQUARED ERROR  0.077825  \n",
       "R2 SCORE                 1.000000  "
      ]
     },
     "execution_count": 102,
     "metadata": {},
     "output_type": "execute_result"
    }
   ],
   "source": [
    "pd.DataFrame(all,index=['MEAN SQUARED ERROR','ROOT MEAN SQUARED ERROR','R2 SCORE'], columns=['Linear Regression','Decision Tree Regressor','Random Forest Regressor','XGBRegressor','AdaBoostRegressor','svr','gradient boost','Lasso'])"
   ]
  }
 ],
 "metadata": {
  "kernelspec": {
   "display_name": "Python 3.10.4 64-bit",
   "language": "python",
   "name": "python3"
  },
  "language_info": {
   "codemirror_mode": {
    "name": "ipython",
    "version": 3
   },
   "file_extension": ".py",
   "mimetype": "text/x-python",
   "name": "python",
   "nbconvert_exporter": "python",
   "pygments_lexer": "ipython3",
   "version": "3.10.4"
  },
  "orig_nbformat": 4,
  "vscode": {
   "interpreter": {
    "hash": "916dbcbb3f70747c44a77c7bcd40155683ae19c65e1c03b4aa3499c5328201f1"
   }
  }
 },
 "nbformat": 4,
 "nbformat_minor": 2
}
